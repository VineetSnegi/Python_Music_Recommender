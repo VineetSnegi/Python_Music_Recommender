{
 "cells": [
  {
   "cell_type": "markdown",
   "metadata": {},
   "source": [
    "## Exploratory Data Analysis of Spotify Playlist\n",
    "(By:- Vineet Singh Negi)\n",
    "\n",
    "This notebook uses Spotipy to extract playlists.\n",
    "Song data comes from the Spotify playlist that is provided while running.\n",
    "\n",
    "Data features are gathered from the Spotify API (here)[https://developer.spotify.com/documentation/web-api/reference/#/operations/get-audio-features]."
   ]
  },
  {
   "cell_type": "code",
   "execution_count": 1,
   "metadata": {},
   "outputs": [],
   "source": [
    "import spotipy\n",
    "import spotipy.oauth2 as oauth2\n",
    "from spotipy.oauth2 import SpotifyOAuth \n",
    "from spotipy.oauth2 import SpotifyClientCredentials\n",
    "import time\n",
    "from pprint import pprint\n",
    "from datetime import date\n",
    "import pandas as pd\n",
    "import plotly.express as px"
   ]
  },
  {
   "cell_type": "code",
   "execution_count": 2,
   "metadata": {},
   "outputs": [],
   "source": [
    "##==============================================\n",
    "## Function to get Client Id and Client Secret\n",
    "##==============================================\n",
    "\n",
    "client_id = '' # <-- Enter your client_id.\n",
    "client_secret = '' # <-- Enter your client secret\n",
    "auth_manage = SpotifyClientCredentials(client_id = client_id, client_secret = client_secret)\n",
    "sp = spotipy.Spotify(client_credentials_manager = auth_manage) # Spotify object to access API"
   ]
  },
  {
   "cell_type": "code",
   "execution_count": 3,
   "metadata": {},
   "outputs": [],
   "source": [
    "##==================================\n",
    "## Getting ID of songs in Playlist\n",
    "##==================================\n",
    "\n",
    "def getPlayListIDs (user, playlist_id):\n",
    "    track_ids = []\n",
    "    album = sp.user_playlist(user, playlist_id)\n",
    "    for item in album ['tracks']['items']:\n",
    "        track = item['track']\n",
    "        track_ids.append(track['id'])\n",
    "    return track_ids"
   ]
  },
  {
   "cell_type": "code",
   "execution_count": 4,
   "metadata": {},
   "outputs": [
    {
     "name": "stdout",
     "output_type": "stream",
     "text": [
      "50\n",
      "['4QyX8CBSjcoq4iMZuvifyF',\n",
      " '4tzx5af2qpwgyjG6JQGthj',\n",
      " '2ncqKdTj6dz7tWoTMMrAtq',\n",
      " '0645eBDehHcqfiF15hscQV',\n",
      " '20LfqGqyGqjOsw9YA4nOTG',\n",
      " '00ake6KfnzbZ2MaRLGqsyX',\n",
      " '73K33p4Vyz9koXGqmL5eFs',\n",
      " '03hJuEQpEQERrHpjcXKWzJ',\n",
      " '7Ky9U9iHjGBiRax3joCRDS',\n",
      " '6FAYpZ4jve8vpvTwUvjK6H',\n",
      " '2vPrBucKCfKmafHhSfJ2pt',\n",
      " '5PUXKVVVQ74C3gl5vKy9Li',\n",
      " '51DEaelXeJJ6cFFYbX8Hal',\n",
      " '6t7PuZfHAtNGheWisgUq3I',\n",
      " '1AmwIgy0WYLJJ5e24aCFTm',\n",
      " '0czcoKJbJt08NqKrvSbbz7',\n",
      " '2Y2l0h051Vk4qUG2ZH7KKy',\n",
      " '2VsWBRKYkZH9FdD7AE6hRQ',\n",
      " '3dpM3ijJz0vGzbkh5DcMXz',\n",
      " '1418IuVKQPTYqt7QNJ9RXN',\n",
      " '0CtZpaOhtzvLV3FfcsVpQo',\n",
      " '2ZD4aIEepqZsdxPxLSuUhm',\n",
      " '0OsuHhPPArdFzJGuIAacnN',\n",
      " '3SiQsAVS3CDJQzWPRyX1XP',\n",
      " '1pDvtLmrjzr5FSQItRLWxA',\n",
      " '4svSc7BE6r9xMEk0GosnVu',\n",
      " '5Z2GQ0eBKoatNYqbGayihP',\n",
      " '4VsP4Dm8gsibRxB5I2hEkw',\n",
      " '0UZLaEOSIc5kg0cc7eszqC',\n",
      " '0zlGnseLGzRIBA0TJcb3Bo',\n",
      " '0QT9B8Yfrz0vi66oXMrKJg',\n",
      " '7E0A86Yhc0ZyOl6aAPE5wN',\n",
      " '5kwldaZvtbiTmRYsmlyxAN',\n",
      " '1t39FBb0zsKv5krZaqZKCB',\n",
      " '6VBhH7CyP56BXjp8VsDFPZ',\n",
      " '1ByVM9F8HeekD3aGXatRWd',\n",
      " '0v77QqHiZUvfJkCk2rGRqw',\n",
      " '6SnqFFm7Qp68efuVygvwtU',\n",
      " '3wwLWFRLiReDf5AqgmAJwT',\n",
      " '0snQrp1VaY5Pj1YIHRJpRJ',\n",
      " '2rOnSn2piaqLAlYjtfUBlY',\n",
      " '0rMeOAvbQZ2RTG4B6L1M4p',\n",
      " '0DXfJ2iKRDEG7rPgssWFea',\n",
      " '2NTVtNcpC0i1R7LVGaCZCF',\n",
      " '080Snoc5O7MuKyu5TkH4TD',\n",
      " '6G699QfN1BWYWXfiblH51F',\n",
      " '0PGU5mcLncBYE8yuVpSwqA',\n",
      " '0yCWDaAgOtg6TKlNCg9rwA',\n",
      " '018eOid2aGaPdxon7T6GsC',\n",
      " '3eSm4iAkLsn3BeggfiQOH9']\n"
     ]
    }
   ],
   "source": [
    "# Drake Playlist URI: 37i9dQZF1DX7QOv5kjbU68, One Direction: 37i9dQZF1DX6p4TJxzMRDe\n",
    "# Top Hindi Hits: 37i9dQZF1DX0XUfTFmNBRM\n",
    "track_ids = getPlayListIDs('spotify', '37i9dQZF1DX0XUfTFmNBRM') # <-- Enter any playlist URI\n",
    "print(len(track_ids))\n",
    "pprint(track_ids)"
   ]
  },
  {
   "cell_type": "code",
   "execution_count": 5,
   "metadata": {},
   "outputs": [],
   "source": [
    "##=========================================\n",
    "## Extracting the Track info and features\n",
    "##=========================================\n",
    "\n",
    "def getPlaylistFeatures(id):\n",
    "    track_info = sp.track(id)\n",
    "    features_info = sp.audio_features(id)\n",
    "\n",
    "# Track Info\n",
    "    name = track_info['name']\n",
    "    album = track_info['album']['name']\n",
    "    artist = track_info['album']['artists'][0]['name']\n",
    "    release_date = track_info['album']['release_date']\n",
    "    length = track_info['duration_ms']\n",
    "    popularity = track_info['popularity']\n",
    "\n",
    "# Track Features\n",
    "    acousticness = features_info[0]['acousticness']\n",
    "    danceability = features_info[0]['danceability']\n",
    "    energy = features_info[0]['energy']\n",
    "    instrumentalness = features_info[0]['instrumentalness']\n",
    "    liveness = features_info[0]['liveness']\n",
    "    loudness = features_info[0]['loudness']\n",
    "    speechiness = features_info[0]['speechiness']\n",
    "    tempo = features_info[0]['tempo']\n",
    "    time_signature = features_info[0]['time_signature']\n",
    "\n",
    "    track_data = [name, album, artist, release_date, length, popularity, acousticness,\n",
    "                   danceability, energy, instrumentalness, liveness, loudness, speechiness, \n",
    "                   tempo, time_signature]\n",
    "    return track_data"
   ]
  },
  {
   "cell_type": "code",
   "execution_count": 6,
   "metadata": {},
   "outputs": [
    {
     "data": {
      "text/html": [
       "<div>\n",
       "<style scoped>\n",
       "    .dataframe tbody tr th:only-of-type {\n",
       "        vertical-align: middle;\n",
       "    }\n",
       "\n",
       "    .dataframe tbody tr th {\n",
       "        vertical-align: top;\n",
       "    }\n",
       "\n",
       "    .dataframe thead th {\n",
       "        text-align: right;\n",
       "    }\n",
       "</style>\n",
       "<table border=\"1\" class=\"dataframe\">\n",
       "  <thead>\n",
       "    <tr style=\"text-align: right;\">\n",
       "      <th></th>\n",
       "      <th>Name</th>\n",
       "      <th>Album</th>\n",
       "      <th>Artist</th>\n",
       "      <th>Release_Date</th>\n",
       "      <th>Length</th>\n",
       "      <th>Popularity</th>\n",
       "      <th>Acousticness</th>\n",
       "      <th>Danceability</th>\n",
       "      <th>Energy</th>\n",
       "      <th>Instrumentness</th>\n",
       "      <th>Liveness</th>\n",
       "      <th>Loudness</th>\n",
       "      <th>Speechness</th>\n",
       "      <th>Tempo</th>\n",
       "      <th>Time_Signature</th>\n",
       "    </tr>\n",
       "  </thead>\n",
       "  <tbody>\n",
       "    <tr>\n",
       "      <th>0</th>\n",
       "      <td>What Jhumka ? (From \"Rocky Aur Rani Kii Prem K...</td>\n",
       "      <td>What Jhumka ? (From \"Rocky Aur Rani Kii Prem K...</td>\n",
       "      <td>Various Artists</td>\n",
       "      <td>2023-07-12</td>\n",
       "      <td>213611</td>\n",
       "      <td>64</td>\n",
       "      <td>0.23500</td>\n",
       "      <td>0.821</td>\n",
       "      <td>0.823</td>\n",
       "      <td>0.000000</td>\n",
       "      <td>0.2070</td>\n",
       "      <td>-5.455</td>\n",
       "      <td>0.1000</td>\n",
       "      <td>107.953</td>\n",
       "      <td>4</td>\n",
       "    </tr>\n",
       "    <tr>\n",
       "      <th>1</th>\n",
       "      <td>Zinda Banda (From \"Jawan\")</td>\n",
       "      <td>Zinda Banda (From \"Jawan\")</td>\n",
       "      <td>Anirudh Ravichander</td>\n",
       "      <td>2023-07-31</td>\n",
       "      <td>264000</td>\n",
       "      <td>72</td>\n",
       "      <td>0.00785</td>\n",
       "      <td>0.613</td>\n",
       "      <td>0.881</td>\n",
       "      <td>0.000003</td>\n",
       "      <td>0.1550</td>\n",
       "      <td>-5.974</td>\n",
       "      <td>0.2490</td>\n",
       "      <td>149.978</td>\n",
       "      <td>4</td>\n",
       "    </tr>\n",
       "    <tr>\n",
       "      <th>2</th>\n",
       "      <td>Mahiye Jinna Sohna</td>\n",
       "      <td>Mahiye Jinna Sohna</td>\n",
       "      <td>Darshan Raval</td>\n",
       "      <td>2023-06-22</td>\n",
       "      <td>181250</td>\n",
       "      <td>86</td>\n",
       "      <td>0.73600</td>\n",
       "      <td>0.567</td>\n",
       "      <td>0.540</td>\n",
       "      <td>0.000032</td>\n",
       "      <td>0.1640</td>\n",
       "      <td>-5.754</td>\n",
       "      <td>0.0406</td>\n",
       "      <td>92.027</td>\n",
       "      <td>4</td>\n",
       "    </tr>\n",
       "    <tr>\n",
       "      <th>3</th>\n",
       "      <td>Janiye (from the Netflix Film \"Chor Nikal Ke B...</td>\n",
       "      <td>Janiye (from the Netflix Film \"Chor Nikal Ke B...</td>\n",
       "      <td>Vishal Mishra</td>\n",
       "      <td>2023-03-17</td>\n",
       "      <td>223390</td>\n",
       "      <td>80</td>\n",
       "      <td>0.44000</td>\n",
       "      <td>0.578</td>\n",
       "      <td>0.444</td>\n",
       "      <td>0.000000</td>\n",
       "      <td>0.1460</td>\n",
       "      <td>-11.447</td>\n",
       "      <td>0.0644</td>\n",
       "      <td>76.032</td>\n",
       "      <td>4</td>\n",
       "    </tr>\n",
       "    <tr>\n",
       "      <th>4</th>\n",
       "      <td>Tere Vaaste</td>\n",
       "      <td>Zara Hatke Zara Bachke (Original Motion Pictur...</td>\n",
       "      <td>Sachin-Jigar</td>\n",
       "      <td>2023-05-26</td>\n",
       "      <td>189136</td>\n",
       "      <td>35</td>\n",
       "      <td>0.31500</td>\n",
       "      <td>0.762</td>\n",
       "      <td>0.717</td>\n",
       "      <td>0.000019</td>\n",
       "      <td>0.0914</td>\n",
       "      <td>-8.316</td>\n",
       "      <td>0.0372</td>\n",
       "      <td>109.996</td>\n",
       "      <td>4</td>\n",
       "    </tr>\n",
       "  </tbody>\n",
       "</table>\n",
       "</div>"
      ],
      "text/plain": [
       "                                                Name  \\\n",
       "0  What Jhumka ? (From \"Rocky Aur Rani Kii Prem K...   \n",
       "1                         Zinda Banda (From \"Jawan\")   \n",
       "2                                 Mahiye Jinna Sohna   \n",
       "3  Janiye (from the Netflix Film \"Chor Nikal Ke B...   \n",
       "4                                        Tere Vaaste   \n",
       "\n",
       "                                               Album               Artist  \\\n",
       "0  What Jhumka ? (From \"Rocky Aur Rani Kii Prem K...      Various Artists   \n",
       "1                         Zinda Banda (From \"Jawan\")  Anirudh Ravichander   \n",
       "2                                 Mahiye Jinna Sohna        Darshan Raval   \n",
       "3  Janiye (from the Netflix Film \"Chor Nikal Ke B...        Vishal Mishra   \n",
       "4  Zara Hatke Zara Bachke (Original Motion Pictur...         Sachin-Jigar   \n",
       "\n",
       "  Release_Date  Length  Popularity  Acousticness  Danceability  Energy  \\\n",
       "0   2023-07-12  213611          64       0.23500         0.821   0.823   \n",
       "1   2023-07-31  264000          72       0.00785         0.613   0.881   \n",
       "2   2023-06-22  181250          86       0.73600         0.567   0.540   \n",
       "3   2023-03-17  223390          80       0.44000         0.578   0.444   \n",
       "4   2023-05-26  189136          35       0.31500         0.762   0.717   \n",
       "\n",
       "   Instrumentness  Liveness  Loudness  Speechness    Tempo  Time_Signature  \n",
       "0        0.000000    0.2070    -5.455      0.1000  107.953               4  \n",
       "1        0.000003    0.1550    -5.974      0.2490  149.978               4  \n",
       "2        0.000032    0.1640    -5.754      0.0406   92.027               4  \n",
       "3        0.000000    0.1460   -11.447      0.0644   76.032               4  \n",
       "4        0.000019    0.0914    -8.316      0.0372  109.996               4  "
      ]
     },
     "execution_count": 6,
     "metadata": {},
     "output_type": "execute_result"
    }
   ],
   "source": [
    "##==========================================================\n",
    "## Appending the track features for each music into a list\n",
    "##==========================================================\n",
    "\n",
    "track_list = []\n",
    "for i in range(len(track_ids)):\n",
    "    time.sleep(.3)\n",
    "    track_data = getPlaylistFeatures(track_ids[i])\n",
    "    track_list.append(track_data)\n",
    "\n",
    "playlist = pd.DataFrame(track_list, columns = ['Name', 'Album', 'Artist', 'Release_Date', 'Length', \n",
    "                                               'Popularity', 'Acousticness', 'Danceability', \n",
    "                                               'Energy', 'Instrumentness', 'Liveness',\n",
    "                                               'Loudness', 'Speechness', 'Tempo',\n",
    "                                               'Time_Signature'])\n",
    "\n",
    "playlist.to_csv(\"playlist_features.csv\")\n",
    "playlist.head()"
   ]
  },
  {
   "cell_type": "code",
   "execution_count": 7,
   "metadata": {},
   "outputs": [
    {
     "data": {
      "text/plain": [
       "Name               object\n",
       "Album              object\n",
       "Artist             object\n",
       "Release_Date       object\n",
       "Length              int64\n",
       "Popularity          int64\n",
       "Acousticness      float64\n",
       "Danceability      float64\n",
       "Energy            float64\n",
       "Instrumentness    float64\n",
       "Liveness          float64\n",
       "Loudness          float64\n",
       "Speechness        float64\n",
       "Tempo             float64\n",
       "Time_Signature      int64\n",
       "dtype: object"
      ]
     },
     "execution_count": 7,
     "metadata": {},
     "output_type": "execute_result"
    }
   ],
   "source": [
    "# Knowing the Datatype of Columns before working on it\n",
    "playlist.dtypes"
   ]
  },
  {
   "cell_type": "code",
   "execution_count": 8,
   "metadata": {},
   "outputs": [
    {
     "data": {
      "text/html": [
       "<div>\n",
       "<style scoped>\n",
       "    .dataframe tbody tr th:only-of-type {\n",
       "        vertical-align: middle;\n",
       "    }\n",
       "\n",
       "    .dataframe tbody tr th {\n",
       "        vertical-align: top;\n",
       "    }\n",
       "\n",
       "    .dataframe thead th {\n",
       "        text-align: right;\n",
       "    }\n",
       "</style>\n",
       "<table border=\"1\" class=\"dataframe\">\n",
       "  <thead>\n",
       "    <tr style=\"text-align: right;\">\n",
       "      <th></th>\n",
       "      <th>Name</th>\n",
       "      <th>Album</th>\n",
       "      <th>Artist</th>\n",
       "      <th>Release_Date</th>\n",
       "      <th>Length</th>\n",
       "      <th>Popularity</th>\n",
       "      <th>Acousticness</th>\n",
       "      <th>Danceability</th>\n",
       "      <th>Energy</th>\n",
       "      <th>Instrumentness</th>\n",
       "      <th>Liveness</th>\n",
       "      <th>Loudness</th>\n",
       "      <th>Speechness</th>\n",
       "      <th>Tempo</th>\n",
       "      <th>Time_Signature</th>\n",
       "    </tr>\n",
       "  </thead>\n",
       "  <tbody>\n",
       "    <tr>\n",
       "      <th>2</th>\n",
       "      <td>Mahiye Jinna Sohna</td>\n",
       "      <td>Mahiye Jinna Sohna</td>\n",
       "      <td>Darshan Raval</td>\n",
       "      <td>2023-06-22</td>\n",
       "      <td>181250</td>\n",
       "      <td>86</td>\n",
       "      <td>0.736</td>\n",
       "      <td>0.567</td>\n",
       "      <td>0.540</td>\n",
       "      <td>0.000032</td>\n",
       "      <td>0.1640</td>\n",
       "      <td>-5.754</td>\n",
       "      <td>0.0406</td>\n",
       "      <td>92.027</td>\n",
       "      <td>4</td>\n",
       "    </tr>\n",
       "    <tr>\n",
       "      <th>19</th>\n",
       "      <td>Maan Meri Jaan</td>\n",
       "      <td>Champagne Talk</td>\n",
       "      <td>King</td>\n",
       "      <td>2022-10-12</td>\n",
       "      <td>194653</td>\n",
       "      <td>85</td>\n",
       "      <td>0.354</td>\n",
       "      <td>0.698</td>\n",
       "      <td>0.505</td>\n",
       "      <td>0.000000</td>\n",
       "      <td>0.0995</td>\n",
       "      <td>-8.242</td>\n",
       "      <td>0.0356</td>\n",
       "      <td>95.868</td>\n",
       "      <td>4</td>\n",
       "    </tr>\n",
       "    <tr>\n",
       "      <th>6</th>\n",
       "      <td>Malang Sajna</td>\n",
       "      <td>Malang Sajna</td>\n",
       "      <td>Sachet Tandon</td>\n",
       "      <td>2022-12-19</td>\n",
       "      <td>161041</td>\n",
       "      <td>84</td>\n",
       "      <td>0.232</td>\n",
       "      <td>0.739</td>\n",
       "      <td>0.716</td>\n",
       "      <td>0.000000</td>\n",
       "      <td>0.3300</td>\n",
       "      <td>-4.964</td>\n",
       "      <td>0.0370</td>\n",
       "      <td>113.943</td>\n",
       "      <td>4</td>\n",
       "    </tr>\n",
       "    <tr>\n",
       "      <th>15</th>\n",
       "      <td>O Bedardeya (From \"Tu Jhoothi Main Makkaar\")</td>\n",
       "      <td>O Bedardeya (From \"Tu Jhoothi Main Makkaar\")</td>\n",
       "      <td>Pritam</td>\n",
       "      <td>2023-03-04</td>\n",
       "      <td>313051</td>\n",
       "      <td>83</td>\n",
       "      <td>0.794</td>\n",
       "      <td>0.582</td>\n",
       "      <td>0.418</td>\n",
       "      <td>0.000000</td>\n",
       "      <td>0.1090</td>\n",
       "      <td>-8.701</td>\n",
       "      <td>0.0288</td>\n",
       "      <td>112.909</td>\n",
       "      <td>4</td>\n",
       "    </tr>\n",
       "    <tr>\n",
       "      <th>27</th>\n",
       "      <td>Kahani Suno 2.0</td>\n",
       "      <td>Kahani Suno 2.0</td>\n",
       "      <td>Kaifi Khalil</td>\n",
       "      <td>2022-05-31</td>\n",
       "      <td>173637</td>\n",
       "      <td>82</td>\n",
       "      <td>0.909</td>\n",
       "      <td>0.577</td>\n",
       "      <td>0.379</td>\n",
       "      <td>0.000586</td>\n",
       "      <td>0.0986</td>\n",
       "      <td>-13.235</td>\n",
       "      <td>0.0374</td>\n",
       "      <td>139.585</td>\n",
       "      <td>3</td>\n",
       "    </tr>\n",
       "  </tbody>\n",
       "</table>\n",
       "</div>"
      ],
      "text/plain": [
       "                                            Name  \\\n",
       "2                             Mahiye Jinna Sohna   \n",
       "19                                Maan Meri Jaan   \n",
       "6                                   Malang Sajna   \n",
       "15  O Bedardeya (From \"Tu Jhoothi Main Makkaar\")   \n",
       "27                               Kahani Suno 2.0   \n",
       "\n",
       "                                           Album         Artist Release_Date  \\\n",
       "2                             Mahiye Jinna Sohna  Darshan Raval   2023-06-22   \n",
       "19                                Champagne Talk           King   2022-10-12   \n",
       "6                                   Malang Sajna  Sachet Tandon   2022-12-19   \n",
       "15  O Bedardeya (From \"Tu Jhoothi Main Makkaar\")         Pritam   2023-03-04   \n",
       "27                               Kahani Suno 2.0   Kaifi Khalil   2022-05-31   \n",
       "\n",
       "    Length  Popularity  Acousticness  Danceability  Energy  Instrumentness  \\\n",
       "2   181250          86         0.736         0.567   0.540        0.000032   \n",
       "19  194653          85         0.354         0.698   0.505        0.000000   \n",
       "6   161041          84         0.232         0.739   0.716        0.000000   \n",
       "15  313051          83         0.794         0.582   0.418        0.000000   \n",
       "27  173637          82         0.909         0.577   0.379        0.000586   \n",
       "\n",
       "    Liveness  Loudness  Speechness    Tempo  Time_Signature  \n",
       "2     0.1640    -5.754      0.0406   92.027               4  \n",
       "19    0.0995    -8.242      0.0356   95.868               4  \n",
       "6     0.3300    -4.964      0.0370  113.943               4  \n",
       "15    0.1090    -8.701      0.0288  112.909               4  \n",
       "27    0.0986   -13.235      0.0374  139.585               3  "
      ]
     },
     "execution_count": 8,
     "metadata": {},
     "output_type": "execute_result"
    }
   ],
   "source": [
    "##=================================\n",
    "## Getting Highest Populated Song\n",
    "##=================================\n",
    "\n",
    "high_po = playlist.loc[lambda playlist: playlist[\"Popularity\"] >= 60].sort_values(by=[\"Popularity\"], ascending = False)\n",
    "high_po.head()"
   ]
  },
  {
   "cell_type": "code",
   "execution_count": 9,
   "metadata": {},
   "outputs": [
    {
     "data": {
      "text/html": [
       "<div>\n",
       "<style scoped>\n",
       "    .dataframe tbody tr th:only-of-type {\n",
       "        vertical-align: middle;\n",
       "    }\n",
       "\n",
       "    .dataframe tbody tr th {\n",
       "        vertical-align: top;\n",
       "    }\n",
       "\n",
       "    .dataframe thead th {\n",
       "        text-align: right;\n",
       "    }\n",
       "</style>\n",
       "<table border=\"1\" class=\"dataframe\">\n",
       "  <thead>\n",
       "    <tr style=\"text-align: right;\">\n",
       "      <th></th>\n",
       "      <th>Name</th>\n",
       "      <th>Album</th>\n",
       "      <th>Artist</th>\n",
       "      <th>Release_Date</th>\n",
       "      <th>Length</th>\n",
       "      <th>Popularity</th>\n",
       "      <th>Acousticness</th>\n",
       "      <th>Danceability</th>\n",
       "      <th>Energy</th>\n",
       "      <th>Instrumentness</th>\n",
       "      <th>Liveness</th>\n",
       "      <th>Loudness</th>\n",
       "      <th>Speechness</th>\n",
       "      <th>Tempo</th>\n",
       "      <th>Time_Signature</th>\n",
       "    </tr>\n",
       "  </thead>\n",
       "  <tbody>\n",
       "    <tr>\n",
       "      <th>4</th>\n",
       "      <td>Tere Vaaste</td>\n",
       "      <td>Zara Hatke Zara Bachke (Original Motion Pictur...</td>\n",
       "      <td>Sachin-Jigar</td>\n",
       "      <td>2023-05-26</td>\n",
       "      <td>189136</td>\n",
       "      <td>35</td>\n",
       "      <td>0.315</td>\n",
       "      <td>0.762</td>\n",
       "      <td>0.717</td>\n",
       "      <td>0.000019</td>\n",
       "      <td>0.0914</td>\n",
       "      <td>-8.316</td>\n",
       "      <td>0.0372</td>\n",
       "      <td>109.996</td>\n",
       "      <td>4</td>\n",
       "    </tr>\n",
       "    <tr>\n",
       "      <th>14</th>\n",
       "      <td>Ve Kamleya (From \"Rocky Aur Rani Kii Prem Kaha...</td>\n",
       "      <td>Ve Kamleya (From \"Rocky Aur Rani Kii Prem Kaha...</td>\n",
       "      <td>Various Artists</td>\n",
       "      <td>2023-07-18</td>\n",
       "      <td>246988</td>\n",
       "      <td>53</td>\n",
       "      <td>0.810</td>\n",
       "      <td>0.468</td>\n",
       "      <td>0.658</td>\n",
       "      <td>0.033300</td>\n",
       "      <td>0.1200</td>\n",
       "      <td>-7.600</td>\n",
       "      <td>0.0668</td>\n",
       "      <td>87.607</td>\n",
       "      <td>4</td>\n",
       "    </tr>\n",
       "    <tr>\n",
       "      <th>37</th>\n",
       "      <td>Tu Mile Dil Khile</td>\n",
       "      <td>Tu Mile Dil Khile - Single</td>\n",
       "      <td>Asees Kaur</td>\n",
       "      <td>2023-01-19</td>\n",
       "      <td>197392</td>\n",
       "      <td>53</td>\n",
       "      <td>0.305</td>\n",
       "      <td>0.736</td>\n",
       "      <td>0.634</td>\n",
       "      <td>0.000005</td>\n",
       "      <td>0.0800</td>\n",
       "      <td>-4.935</td>\n",
       "      <td>0.0307</td>\n",
       "      <td>93.960</td>\n",
       "      <td>4</td>\n",
       "    </tr>\n",
       "    <tr>\n",
       "      <th>25</th>\n",
       "      <td>Rang Lageya</td>\n",
       "      <td>Rang Lageya - Single</td>\n",
       "      <td>Mohit Chauhan</td>\n",
       "      <td>2021-03-17</td>\n",
       "      <td>227962</td>\n",
       "      <td>57</td>\n",
       "      <td>0.504</td>\n",
       "      <td>0.651</td>\n",
       "      <td>0.503</td>\n",
       "      <td>0.000000</td>\n",
       "      <td>0.4690</td>\n",
       "      <td>-8.729</td>\n",
       "      <td>0.0261</td>\n",
       "      <td>108.014</td>\n",
       "      <td>4</td>\n",
       "    </tr>\n",
       "    <tr>\n",
       "      <th>44</th>\n",
       "      <td>Meri Jaan</td>\n",
       "      <td>Gangubai Kathiawadi (Original Motion Picture S...</td>\n",
       "      <td>Sanjay Leela Bhansali</td>\n",
       "      <td>2022-02-19</td>\n",
       "      <td>238103</td>\n",
       "      <td>57</td>\n",
       "      <td>0.629</td>\n",
       "      <td>0.745</td>\n",
       "      <td>0.432</td>\n",
       "      <td>0.000000</td>\n",
       "      <td>0.3510</td>\n",
       "      <td>-8.092</td>\n",
       "      <td>0.0406</td>\n",
       "      <td>104.018</td>\n",
       "      <td>4</td>\n",
       "    </tr>\n",
       "  </tbody>\n",
       "</table>\n",
       "</div>"
      ],
      "text/plain": [
       "                                                 Name  \\\n",
       "4                                         Tere Vaaste   \n",
       "14  Ve Kamleya (From \"Rocky Aur Rani Kii Prem Kaha...   \n",
       "37                                  Tu Mile Dil Khile   \n",
       "25                                        Rang Lageya   \n",
       "44                                          Meri Jaan   \n",
       "\n",
       "                                                Album                 Artist  \\\n",
       "4   Zara Hatke Zara Bachke (Original Motion Pictur...           Sachin-Jigar   \n",
       "14  Ve Kamleya (From \"Rocky Aur Rani Kii Prem Kaha...        Various Artists   \n",
       "37                         Tu Mile Dil Khile - Single             Asees Kaur   \n",
       "25                               Rang Lageya - Single          Mohit Chauhan   \n",
       "44  Gangubai Kathiawadi (Original Motion Picture S...  Sanjay Leela Bhansali   \n",
       "\n",
       "   Release_Date  Length  Popularity  Acousticness  Danceability  Energy  \\\n",
       "4    2023-05-26  189136          35         0.315         0.762   0.717   \n",
       "14   2023-07-18  246988          53         0.810         0.468   0.658   \n",
       "37   2023-01-19  197392          53         0.305         0.736   0.634   \n",
       "25   2021-03-17  227962          57         0.504         0.651   0.503   \n",
       "44   2022-02-19  238103          57         0.629         0.745   0.432   \n",
       "\n",
       "    Instrumentness  Liveness  Loudness  Speechness    Tempo  Time_Signature  \n",
       "4         0.000019    0.0914    -8.316      0.0372  109.996               4  \n",
       "14        0.033300    0.1200    -7.600      0.0668   87.607               4  \n",
       "37        0.000005    0.0800    -4.935      0.0307   93.960               4  \n",
       "25        0.000000    0.4690    -8.729      0.0261  108.014               4  \n",
       "44        0.000000    0.3510    -8.092      0.0406  104.018               4  "
      ]
     },
     "execution_count": 9,
     "metadata": {},
     "output_type": "execute_result"
    }
   ],
   "source": [
    "##================================\n",
    "## Getting Lowest Populated Song\n",
    "##================================\n",
    "\n",
    "low_po = playlist.loc[lambda playlist: playlist[\"Popularity\"] <= 60].sort_values(by=[\"Popularity\"], ascending=True)\n",
    "low_po.head()"
   ]
  },
  {
   "cell_type": "code",
   "execution_count": 10,
   "metadata": {},
   "outputs": [
    {
     "data": {
      "text/html": [
       "<div>\n",
       "<style scoped>\n",
       "    .dataframe tbody tr th:only-of-type {\n",
       "        vertical-align: middle;\n",
       "    }\n",
       "\n",
       "    .dataframe tbody tr th {\n",
       "        vertical-align: top;\n",
       "    }\n",
       "\n",
       "    .dataframe thead th {\n",
       "        text-align: right;\n",
       "    }\n",
       "</style>\n",
       "<table border=\"1\" class=\"dataframe\">\n",
       "  <thead>\n",
       "    <tr style=\"text-align: right;\">\n",
       "      <th></th>\n",
       "      <th>Name</th>\n",
       "      <th>Album</th>\n",
       "      <th>Artist</th>\n",
       "      <th>Release_Date</th>\n",
       "      <th>Length</th>\n",
       "      <th>Popularity</th>\n",
       "      <th>Acousticness</th>\n",
       "      <th>Danceability</th>\n",
       "      <th>Energy</th>\n",
       "      <th>Instrumentness</th>\n",
       "      <th>Liveness</th>\n",
       "      <th>Loudness</th>\n",
       "      <th>Speechness</th>\n",
       "      <th>Tempo</th>\n",
       "      <th>Time_Signature</th>\n",
       "    </tr>\n",
       "  </thead>\n",
       "  <tbody>\n",
       "    <tr>\n",
       "      <th>48</th>\n",
       "      <td>Shayad (From \"Love Aaj Kal\")</td>\n",
       "      <td>Shayad (From \"Love Aaj Kal\")</td>\n",
       "      <td>Pritam</td>\n",
       "      <td>2020-01-22</td>\n",
       "      <td>247941</td>\n",
       "      <td>72</td>\n",
       "      <td>0.789</td>\n",
       "      <td>0.487</td>\n",
       "      <td>0.456</td>\n",
       "      <td>0.000002</td>\n",
       "      <td>0.1410</td>\n",
       "      <td>-7.144</td>\n",
       "      <td>0.0319</td>\n",
       "      <td>136.088</td>\n",
       "      <td>4</td>\n",
       "    </tr>\n",
       "    <tr>\n",
       "      <th>41</th>\n",
       "      <td>Asal Mein</td>\n",
       "      <td>Asal Mein</td>\n",
       "      <td>Darshan Raval</td>\n",
       "      <td>2020-02-18</td>\n",
       "      <td>224240</td>\n",
       "      <td>80</td>\n",
       "      <td>0.721</td>\n",
       "      <td>0.656</td>\n",
       "      <td>0.551</td>\n",
       "      <td>0.000001</td>\n",
       "      <td>0.0947</td>\n",
       "      <td>-6.430</td>\n",
       "      <td>0.0299</td>\n",
       "      <td>114.106</td>\n",
       "      <td>4</td>\n",
       "    </tr>\n",
       "    <tr>\n",
       "      <th>28</th>\n",
       "      <td>Manjha</td>\n",
       "      <td>Manjha</td>\n",
       "      <td>Vishal Mishra</td>\n",
       "      <td>2020-03-17</td>\n",
       "      <td>191647</td>\n",
       "      <td>78</td>\n",
       "      <td>0.674</td>\n",
       "      <td>0.524</td>\n",
       "      <td>0.515</td>\n",
       "      <td>0.000000</td>\n",
       "      <td>0.1040</td>\n",
       "      <td>-7.478</td>\n",
       "      <td>0.0427</td>\n",
       "      <td>169.882</td>\n",
       "      <td>4</td>\n",
       "    </tr>\n",
       "    <tr>\n",
       "      <th>39</th>\n",
       "      <td>Chaand Baaliyan</td>\n",
       "      <td>Chaand Baaliyan</td>\n",
       "      <td>Aditya A</td>\n",
       "      <td>2020-03-28</td>\n",
       "      <td>103264</td>\n",
       "      <td>81</td>\n",
       "      <td>0.796</td>\n",
       "      <td>0.729</td>\n",
       "      <td>0.396</td>\n",
       "      <td>0.000000</td>\n",
       "      <td>0.1040</td>\n",
       "      <td>-8.980</td>\n",
       "      <td>0.0359</td>\n",
       "      <td>97.281</td>\n",
       "      <td>4</td>\n",
       "    </tr>\n",
       "    <tr>\n",
       "      <th>47</th>\n",
       "      <td>Tu Aake Dekhle</td>\n",
       "      <td>The Carnival</td>\n",
       "      <td>King</td>\n",
       "      <td>2020-09-21</td>\n",
       "      <td>270000</td>\n",
       "      <td>69</td>\n",
       "      <td>0.515</td>\n",
       "      <td>0.770</td>\n",
       "      <td>0.840</td>\n",
       "      <td>0.004520</td>\n",
       "      <td>0.1450</td>\n",
       "      <td>-4.022</td>\n",
       "      <td>0.1070</td>\n",
       "      <td>96.012</td>\n",
       "      <td>4</td>\n",
       "    </tr>\n",
       "  </tbody>\n",
       "</table>\n",
       "</div>"
      ],
      "text/plain": [
       "                            Name                         Album         Artist  \\\n",
       "48  Shayad (From \"Love Aaj Kal\")  Shayad (From \"Love Aaj Kal\")         Pritam   \n",
       "41                     Asal Mein                     Asal Mein  Darshan Raval   \n",
       "28                        Manjha                        Manjha  Vishal Mishra   \n",
       "39               Chaand Baaliyan               Chaand Baaliyan       Aditya A   \n",
       "47                Tu Aake Dekhle                  The Carnival           King   \n",
       "\n",
       "   Release_Date  Length  Popularity  Acousticness  Danceability  Energy  \\\n",
       "48   2020-01-22  247941          72         0.789         0.487   0.456   \n",
       "41   2020-02-18  224240          80         0.721         0.656   0.551   \n",
       "28   2020-03-17  191647          78         0.674         0.524   0.515   \n",
       "39   2020-03-28  103264          81         0.796         0.729   0.396   \n",
       "47   2020-09-21  270000          69         0.515         0.770   0.840   \n",
       "\n",
       "    Instrumentness  Liveness  Loudness  Speechness    Tempo  Time_Signature  \n",
       "48        0.000002    0.1410    -7.144      0.0319  136.088               4  \n",
       "41        0.000001    0.0947    -6.430      0.0299  114.106               4  \n",
       "28        0.000000    0.1040    -7.478      0.0427  169.882               4  \n",
       "39        0.000000    0.1040    -8.980      0.0359   97.281               4  \n",
       "47        0.004520    0.1450    -4.022      0.1070   96.012               4  "
      ]
     },
     "execution_count": 10,
     "metadata": {},
     "output_type": "execute_result"
    }
   ],
   "source": [
    "##===========================================\n",
    "## Getting the oldest songs in the playlist\n",
    "##===========================================\n",
    "\n",
    "# Changing the 'Release_Date' column type from object to date\n",
    "playlist[\"Release_Date\"] = pd.to_datetime(playlist[\"Release_Date\"])\n",
    "\n",
    "\n",
    "# today = date.today()\n",
    "# date = today.strftime(\"%Y/%m/%d\")\n",
    "# old_songs = playlist.loc[lambda playlist: playlist[\"Release_Date\"] < date].sort_values(by=[\"Release_Date\"], ascending=True)\n",
    "# old_songs.head()\n",
    "\n",
    "                            #OR\n",
    "\n",
    "old_songs = playlist.sort_values(by=\"Release_Date\", ascending=True)\n",
    "old_songs.head()"
   ]
  },
  {
   "cell_type": "code",
   "execution_count": 11,
   "metadata": {},
   "outputs": [
    {
     "data": {
      "application/vnd.plotly.v1+json": {
       "config": {
        "plotlyServerURL": "https://plot.ly"
       },
       "data": [
        {
         "hovertemplate": "Tempo=%{x}<br>Danceability=%{y}<br>Popularity=%{marker.color}<extra></extra>",
         "legendgroup": "",
         "marker": {
          "color": [
           64,
           72,
           86,
           80,
           35,
           64,
           84,
           79,
           68,
           80,
           79,
           76,
           81,
           79,
           53,
           83,
           78,
           74,
           78,
           85,
           79,
           82,
           76,
           73,
           73,
           57,
           72,
           82,
           78,
           79,
           71,
           72,
           75,
           71,
           81,
           68,
           69,
           53,
           75,
           81,
           78,
           80,
           72,
           74,
           57,
           72,
           73,
           69,
           72,
           71
          ],
          "coloraxis": "coloraxis",
          "size": [
           64,
           72,
           86,
           80,
           35,
           64,
           84,
           79,
           68,
           80,
           79,
           76,
           81,
           79,
           53,
           83,
           78,
           74,
           78,
           85,
           79,
           82,
           76,
           73,
           73,
           57,
           72,
           82,
           78,
           79,
           71,
           72,
           75,
           71,
           81,
           68,
           69,
           53,
           75,
           81,
           78,
           80,
           72,
           74,
           57,
           72,
           73,
           69,
           72,
           71
          ],
          "sizemode": "area",
          "sizeref": 0.215,
          "symbol": "circle"
         },
         "mode": "markers",
         "name": "",
         "orientation": "v",
         "showlegend": false,
         "type": "scatter",
         "x": [
          107.953,
          149.978,
          92.027,
          76.032,
          109.996,
          87.425,
          113.943,
          101.855,
          100.051,
          104.964,
          122.024,
          105.007,
          128.844,
          113.824,
          87.607,
          112.909,
          130.014,
          98.958,
          149.785,
          95.868,
          115.997,
          118.945,
          98.023,
          110.058,
          108.012,
          108.014,
          173.998,
          139.585,
          169.882,
          106.772,
          111.955,
          131.015,
          150.042,
          122.005,
          94.009,
          109.094,
          82.984,
          93.96,
          140.031,
          97.281,
          81.009,
          114.106,
          140.012,
          124.961,
          104.018,
          101,
          168.064,
          96.012,
          136.088,
          89.114
         ],
         "xaxis": "x",
         "y": [
          0.821,
          0.613,
          0.567,
          0.578,
          0.762,
          0.271,
          0.739,
          0.602,
          0.556,
          0.817,
          0.772,
          0.728,
          0.581,
          0.69,
          0.468,
          0.582,
          0.728,
          0.31,
          0.557,
          0.698,
          0.773,
          0.679,
          0.781,
          0.955,
          0.559,
          0.651,
          0.571,
          0.577,
          0.524,
          0.551,
          0.841,
          0.766,
          0.672,
          0.841,
          0.577,
          0.589,
          0.611,
          0.736,
          0.576,
          0.729,
          0.72,
          0.656,
          0.524,
          0.716,
          0.745,
          0.742,
          0.571,
          0.77,
          0.487,
          0.443
         ],
         "yaxis": "y"
        }
       ],
       "layout": {
        "coloraxis": {
         "colorbar": {
          "title": {
           "text": "Popularity"
          }
         },
         "colorscale": [
          [
           0,
           "#0d0887"
          ],
          [
           0.1111111111111111,
           "#46039f"
          ],
          [
           0.2222222222222222,
           "#7201a8"
          ],
          [
           0.3333333333333333,
           "#9c179e"
          ],
          [
           0.4444444444444444,
           "#bd3786"
          ],
          [
           0.5555555555555556,
           "#d8576b"
          ],
          [
           0.6666666666666666,
           "#ed7953"
          ],
          [
           0.7777777777777778,
           "#fb9f3a"
          ],
          [
           0.8888888888888888,
           "#fdca26"
          ],
          [
           1,
           "#f0f921"
          ]
         ]
        },
        "legend": {
         "itemsizing": "constant",
         "tracegroupgap": 0
        },
        "template": {
         "data": {
          "bar": [
           {
            "error_x": {
             "color": "#2a3f5f"
            },
            "error_y": {
             "color": "#2a3f5f"
            },
            "marker": {
             "line": {
              "color": "#E5ECF6",
              "width": 0.5
             },
             "pattern": {
              "fillmode": "overlay",
              "size": 10,
              "solidity": 0.2
             }
            },
            "type": "bar"
           }
          ],
          "barpolar": [
           {
            "marker": {
             "line": {
              "color": "#E5ECF6",
              "width": 0.5
             },
             "pattern": {
              "fillmode": "overlay",
              "size": 10,
              "solidity": 0.2
             }
            },
            "type": "barpolar"
           }
          ],
          "carpet": [
           {
            "aaxis": {
             "endlinecolor": "#2a3f5f",
             "gridcolor": "white",
             "linecolor": "white",
             "minorgridcolor": "white",
             "startlinecolor": "#2a3f5f"
            },
            "baxis": {
             "endlinecolor": "#2a3f5f",
             "gridcolor": "white",
             "linecolor": "white",
             "minorgridcolor": "white",
             "startlinecolor": "#2a3f5f"
            },
            "type": "carpet"
           }
          ],
          "choropleth": [
           {
            "colorbar": {
             "outlinewidth": 0,
             "ticks": ""
            },
            "type": "choropleth"
           }
          ],
          "contour": [
           {
            "colorbar": {
             "outlinewidth": 0,
             "ticks": ""
            },
            "colorscale": [
             [
              0,
              "#0d0887"
             ],
             [
              0.1111111111111111,
              "#46039f"
             ],
             [
              0.2222222222222222,
              "#7201a8"
             ],
             [
              0.3333333333333333,
              "#9c179e"
             ],
             [
              0.4444444444444444,
              "#bd3786"
             ],
             [
              0.5555555555555556,
              "#d8576b"
             ],
             [
              0.6666666666666666,
              "#ed7953"
             ],
             [
              0.7777777777777778,
              "#fb9f3a"
             ],
             [
              0.8888888888888888,
              "#fdca26"
             ],
             [
              1,
              "#f0f921"
             ]
            ],
            "type": "contour"
           }
          ],
          "contourcarpet": [
           {
            "colorbar": {
             "outlinewidth": 0,
             "ticks": ""
            },
            "type": "contourcarpet"
           }
          ],
          "heatmap": [
           {
            "colorbar": {
             "outlinewidth": 0,
             "ticks": ""
            },
            "colorscale": [
             [
              0,
              "#0d0887"
             ],
             [
              0.1111111111111111,
              "#46039f"
             ],
             [
              0.2222222222222222,
              "#7201a8"
             ],
             [
              0.3333333333333333,
              "#9c179e"
             ],
             [
              0.4444444444444444,
              "#bd3786"
             ],
             [
              0.5555555555555556,
              "#d8576b"
             ],
             [
              0.6666666666666666,
              "#ed7953"
             ],
             [
              0.7777777777777778,
              "#fb9f3a"
             ],
             [
              0.8888888888888888,
              "#fdca26"
             ],
             [
              1,
              "#f0f921"
             ]
            ],
            "type": "heatmap"
           }
          ],
          "heatmapgl": [
           {
            "colorbar": {
             "outlinewidth": 0,
             "ticks": ""
            },
            "colorscale": [
             [
              0,
              "#0d0887"
             ],
             [
              0.1111111111111111,
              "#46039f"
             ],
             [
              0.2222222222222222,
              "#7201a8"
             ],
             [
              0.3333333333333333,
              "#9c179e"
             ],
             [
              0.4444444444444444,
              "#bd3786"
             ],
             [
              0.5555555555555556,
              "#d8576b"
             ],
             [
              0.6666666666666666,
              "#ed7953"
             ],
             [
              0.7777777777777778,
              "#fb9f3a"
             ],
             [
              0.8888888888888888,
              "#fdca26"
             ],
             [
              1,
              "#f0f921"
             ]
            ],
            "type": "heatmapgl"
           }
          ],
          "histogram": [
           {
            "marker": {
             "pattern": {
              "fillmode": "overlay",
              "size": 10,
              "solidity": 0.2
             }
            },
            "type": "histogram"
           }
          ],
          "histogram2d": [
           {
            "colorbar": {
             "outlinewidth": 0,
             "ticks": ""
            },
            "colorscale": [
             [
              0,
              "#0d0887"
             ],
             [
              0.1111111111111111,
              "#46039f"
             ],
             [
              0.2222222222222222,
              "#7201a8"
             ],
             [
              0.3333333333333333,
              "#9c179e"
             ],
             [
              0.4444444444444444,
              "#bd3786"
             ],
             [
              0.5555555555555556,
              "#d8576b"
             ],
             [
              0.6666666666666666,
              "#ed7953"
             ],
             [
              0.7777777777777778,
              "#fb9f3a"
             ],
             [
              0.8888888888888888,
              "#fdca26"
             ],
             [
              1,
              "#f0f921"
             ]
            ],
            "type": "histogram2d"
           }
          ],
          "histogram2dcontour": [
           {
            "colorbar": {
             "outlinewidth": 0,
             "ticks": ""
            },
            "colorscale": [
             [
              0,
              "#0d0887"
             ],
             [
              0.1111111111111111,
              "#46039f"
             ],
             [
              0.2222222222222222,
              "#7201a8"
             ],
             [
              0.3333333333333333,
              "#9c179e"
             ],
             [
              0.4444444444444444,
              "#bd3786"
             ],
             [
              0.5555555555555556,
              "#d8576b"
             ],
             [
              0.6666666666666666,
              "#ed7953"
             ],
             [
              0.7777777777777778,
              "#fb9f3a"
             ],
             [
              0.8888888888888888,
              "#fdca26"
             ],
             [
              1,
              "#f0f921"
             ]
            ],
            "type": "histogram2dcontour"
           }
          ],
          "mesh3d": [
           {
            "colorbar": {
             "outlinewidth": 0,
             "ticks": ""
            },
            "type": "mesh3d"
           }
          ],
          "parcoords": [
           {
            "line": {
             "colorbar": {
              "outlinewidth": 0,
              "ticks": ""
             }
            },
            "type": "parcoords"
           }
          ],
          "pie": [
           {
            "automargin": true,
            "type": "pie"
           }
          ],
          "scatter": [
           {
            "fillpattern": {
             "fillmode": "overlay",
             "size": 10,
             "solidity": 0.2
            },
            "type": "scatter"
           }
          ],
          "scatter3d": [
           {
            "line": {
             "colorbar": {
              "outlinewidth": 0,
              "ticks": ""
             }
            },
            "marker": {
             "colorbar": {
              "outlinewidth": 0,
              "ticks": ""
             }
            },
            "type": "scatter3d"
           }
          ],
          "scattercarpet": [
           {
            "marker": {
             "colorbar": {
              "outlinewidth": 0,
              "ticks": ""
             }
            },
            "type": "scattercarpet"
           }
          ],
          "scattergeo": [
           {
            "marker": {
             "colorbar": {
              "outlinewidth": 0,
              "ticks": ""
             }
            },
            "type": "scattergeo"
           }
          ],
          "scattergl": [
           {
            "marker": {
             "colorbar": {
              "outlinewidth": 0,
              "ticks": ""
             }
            },
            "type": "scattergl"
           }
          ],
          "scattermapbox": [
           {
            "marker": {
             "colorbar": {
              "outlinewidth": 0,
              "ticks": ""
             }
            },
            "type": "scattermapbox"
           }
          ],
          "scatterpolar": [
           {
            "marker": {
             "colorbar": {
              "outlinewidth": 0,
              "ticks": ""
             }
            },
            "type": "scatterpolar"
           }
          ],
          "scatterpolargl": [
           {
            "marker": {
             "colorbar": {
              "outlinewidth": 0,
              "ticks": ""
             }
            },
            "type": "scatterpolargl"
           }
          ],
          "scatterternary": [
           {
            "marker": {
             "colorbar": {
              "outlinewidth": 0,
              "ticks": ""
             }
            },
            "type": "scatterternary"
           }
          ],
          "surface": [
           {
            "colorbar": {
             "outlinewidth": 0,
             "ticks": ""
            },
            "colorscale": [
             [
              0,
              "#0d0887"
             ],
             [
              0.1111111111111111,
              "#46039f"
             ],
             [
              0.2222222222222222,
              "#7201a8"
             ],
             [
              0.3333333333333333,
              "#9c179e"
             ],
             [
              0.4444444444444444,
              "#bd3786"
             ],
             [
              0.5555555555555556,
              "#d8576b"
             ],
             [
              0.6666666666666666,
              "#ed7953"
             ],
             [
              0.7777777777777778,
              "#fb9f3a"
             ],
             [
              0.8888888888888888,
              "#fdca26"
             ],
             [
              1,
              "#f0f921"
             ]
            ],
            "type": "surface"
           }
          ],
          "table": [
           {
            "cells": {
             "fill": {
              "color": "#EBF0F8"
             },
             "line": {
              "color": "white"
             }
            },
            "header": {
             "fill": {
              "color": "#C8D4E3"
             },
             "line": {
              "color": "white"
             }
            },
            "type": "table"
           }
          ]
         },
         "layout": {
          "annotationdefaults": {
           "arrowcolor": "#2a3f5f",
           "arrowhead": 0,
           "arrowwidth": 1
          },
          "autotypenumbers": "strict",
          "coloraxis": {
           "colorbar": {
            "outlinewidth": 0,
            "ticks": ""
           }
          },
          "colorscale": {
           "diverging": [
            [
             0,
             "#8e0152"
            ],
            [
             0.1,
             "#c51b7d"
            ],
            [
             0.2,
             "#de77ae"
            ],
            [
             0.3,
             "#f1b6da"
            ],
            [
             0.4,
             "#fde0ef"
            ],
            [
             0.5,
             "#f7f7f7"
            ],
            [
             0.6,
             "#e6f5d0"
            ],
            [
             0.7,
             "#b8e186"
            ],
            [
             0.8,
             "#7fbc41"
            ],
            [
             0.9,
             "#4d9221"
            ],
            [
             1,
             "#276419"
            ]
           ],
           "sequential": [
            [
             0,
             "#0d0887"
            ],
            [
             0.1111111111111111,
             "#46039f"
            ],
            [
             0.2222222222222222,
             "#7201a8"
            ],
            [
             0.3333333333333333,
             "#9c179e"
            ],
            [
             0.4444444444444444,
             "#bd3786"
            ],
            [
             0.5555555555555556,
             "#d8576b"
            ],
            [
             0.6666666666666666,
             "#ed7953"
            ],
            [
             0.7777777777777778,
             "#fb9f3a"
            ],
            [
             0.8888888888888888,
             "#fdca26"
            ],
            [
             1,
             "#f0f921"
            ]
           ],
           "sequentialminus": [
            [
             0,
             "#0d0887"
            ],
            [
             0.1111111111111111,
             "#46039f"
            ],
            [
             0.2222222222222222,
             "#7201a8"
            ],
            [
             0.3333333333333333,
             "#9c179e"
            ],
            [
             0.4444444444444444,
             "#bd3786"
            ],
            [
             0.5555555555555556,
             "#d8576b"
            ],
            [
             0.6666666666666666,
             "#ed7953"
            ],
            [
             0.7777777777777778,
             "#fb9f3a"
            ],
            [
             0.8888888888888888,
             "#fdca26"
            ],
            [
             1,
             "#f0f921"
            ]
           ]
          },
          "colorway": [
           "#636efa",
           "#EF553B",
           "#00cc96",
           "#ab63fa",
           "#FFA15A",
           "#19d3f3",
           "#FF6692",
           "#B6E880",
           "#FF97FF",
           "#FECB52"
          ],
          "font": {
           "color": "#2a3f5f"
          },
          "geo": {
           "bgcolor": "white",
           "lakecolor": "white",
           "landcolor": "#E5ECF6",
           "showlakes": true,
           "showland": true,
           "subunitcolor": "white"
          },
          "hoverlabel": {
           "align": "left"
          },
          "hovermode": "closest",
          "mapbox": {
           "style": "light"
          },
          "paper_bgcolor": "white",
          "plot_bgcolor": "#E5ECF6",
          "polar": {
           "angularaxis": {
            "gridcolor": "white",
            "linecolor": "white",
            "ticks": ""
           },
           "bgcolor": "#E5ECF6",
           "radialaxis": {
            "gridcolor": "white",
            "linecolor": "white",
            "ticks": ""
           }
          },
          "scene": {
           "xaxis": {
            "backgroundcolor": "#E5ECF6",
            "gridcolor": "white",
            "gridwidth": 2,
            "linecolor": "white",
            "showbackground": true,
            "ticks": "",
            "zerolinecolor": "white"
           },
           "yaxis": {
            "backgroundcolor": "#E5ECF6",
            "gridcolor": "white",
            "gridwidth": 2,
            "linecolor": "white",
            "showbackground": true,
            "ticks": "",
            "zerolinecolor": "white"
           },
           "zaxis": {
            "backgroundcolor": "#E5ECF6",
            "gridcolor": "white",
            "gridwidth": 2,
            "linecolor": "white",
            "showbackground": true,
            "ticks": "",
            "zerolinecolor": "white"
           }
          },
          "shapedefaults": {
           "line": {
            "color": "#2a3f5f"
           }
          },
          "ternary": {
           "aaxis": {
            "gridcolor": "white",
            "linecolor": "white",
            "ticks": ""
           },
           "baxis": {
            "gridcolor": "white",
            "linecolor": "white",
            "ticks": ""
           },
           "bgcolor": "#E5ECF6",
           "caxis": {
            "gridcolor": "white",
            "linecolor": "white",
            "ticks": ""
           }
          },
          "title": {
           "x": 0.05
          },
          "xaxis": {
           "automargin": true,
           "gridcolor": "white",
           "linecolor": "white",
           "ticks": "",
           "title": {
            "standoff": 15
           },
           "zerolinecolor": "white",
           "zerolinewidth": 2
          },
          "yaxis": {
           "automargin": true,
           "gridcolor": "white",
           "linecolor": "white",
           "ticks": "",
           "title": {
            "standoff": 15
           },
           "zerolinecolor": "white",
           "zerolinewidth": 2
          }
         }
        },
        "title": {
         "text": "Scatter Plot of Popular Songs using Tempo angainst Danceability"
        },
        "xaxis": {
         "anchor": "y",
         "domain": [
          0,
          1
         ],
         "title": {
          "text": "Tempo"
         }
        },
        "yaxis": {
         "anchor": "x",
         "domain": [
          0,
          1
         ],
         "title": {
          "text": "Danceability"
         }
        }
       }
      }
     },
     "metadata": {},
     "output_type": "display_data"
    }
   ],
   "source": [
    "##================================================================\n",
    "## Using the Tempo column against the Danceability column to\n",
    "## determine the scatter plots of popular songs in the playlist.\n",
    "##================================================================\n",
    "\n",
    "fig = px.scatter(playlist, x = playlist['Tempo'], y = playlist['Danceability'], color = playlist['Popularity'], \n",
    "                size = playlist['Popularity'], title = 'Scatter Plot of Popular Songs using Tempo angainst Danceability')\n",
    "\n",
    "fig.show()"
   ]
  },
  {
   "cell_type": "code",
   "execution_count": 12,
   "metadata": {},
   "outputs": [
    {
     "data": {
      "application/vnd.plotly.v1+json": {
       "config": {
        "plotlyServerURL": "https://plot.ly"
       },
       "data": [
        {
         "domain": {
          "x": [
           0,
           1
          ],
          "y": [
           0,
           1
          ]
         },
         "hovertemplate": "Artist=%{label}<br>Popularity=%{value}<extra></extra>",
         "labels": [
          "Darshan Raval",
          "King",
          "Sachet Tandon",
          "Pritam",
          "Pritam",
          "Kaifi Khalil",
          "Aditya A",
          "Pritam",
          "Javed-Mohsin",
          "Darshan Raval",
          "Vishal-Shekhar",
          "Vishal Mishra",
          "Pritam",
          "Mithoon",
          "Yohani",
          "B Praak",
          "Vishal-Shekhar",
          "Payal Dev",
          "Tanishk Bagchi",
          "B Praak",
          "Vishal Mishra",
          "Jasleen Royal",
          "Raghav",
          "Rito Riba",
          "Sachin-Jigar",
          "Darshan Raval",
          "Badshah",
          "Aditya Bhardwaj",
          "Sachet Tandon",
          "Badshah",
          "Tanishk Bagchi",
          "Pritam",
          "Kanishk Seth",
          "Anirudh Ravichander",
          "Tanishk Bagchi",
          "Anubha Bajaj",
          "Pritam",
          "Pritam",
          "Gaurav Chatterji"
         ],
         "legendgroup": "",
         "name": "",
         "showlegend": true,
         "textinfo": "percent+label",
         "textposition": "inside",
         "type": "pie",
         "values": [
          86,
          85,
          84,
          83,
          82,
          82,
          81,
          81,
          81,
          80,
          80,
          80,
          79,
          79,
          79,
          79,
          79,
          78,
          78,
          78,
          78,
          76,
          76,
          75,
          75,
          74,
          74,
          73,
          73,
          73,
          72,
          72,
          72,
          72,
          72,
          72,
          71,
          71,
          71
         ]
        }
       ],
       "layout": {
        "legend": {
         "tracegroupgap": 0
        },
        "template": {
         "data": {
          "bar": [
           {
            "error_x": {
             "color": "#2a3f5f"
            },
            "error_y": {
             "color": "#2a3f5f"
            },
            "marker": {
             "line": {
              "color": "#E5ECF6",
              "width": 0.5
             },
             "pattern": {
              "fillmode": "overlay",
              "size": 10,
              "solidity": 0.2
             }
            },
            "type": "bar"
           }
          ],
          "barpolar": [
           {
            "marker": {
             "line": {
              "color": "#E5ECF6",
              "width": 0.5
             },
             "pattern": {
              "fillmode": "overlay",
              "size": 10,
              "solidity": 0.2
             }
            },
            "type": "barpolar"
           }
          ],
          "carpet": [
           {
            "aaxis": {
             "endlinecolor": "#2a3f5f",
             "gridcolor": "white",
             "linecolor": "white",
             "minorgridcolor": "white",
             "startlinecolor": "#2a3f5f"
            },
            "baxis": {
             "endlinecolor": "#2a3f5f",
             "gridcolor": "white",
             "linecolor": "white",
             "minorgridcolor": "white",
             "startlinecolor": "#2a3f5f"
            },
            "type": "carpet"
           }
          ],
          "choropleth": [
           {
            "colorbar": {
             "outlinewidth": 0,
             "ticks": ""
            },
            "type": "choropleth"
           }
          ],
          "contour": [
           {
            "colorbar": {
             "outlinewidth": 0,
             "ticks": ""
            },
            "colorscale": [
             [
              0,
              "#0d0887"
             ],
             [
              0.1111111111111111,
              "#46039f"
             ],
             [
              0.2222222222222222,
              "#7201a8"
             ],
             [
              0.3333333333333333,
              "#9c179e"
             ],
             [
              0.4444444444444444,
              "#bd3786"
             ],
             [
              0.5555555555555556,
              "#d8576b"
             ],
             [
              0.6666666666666666,
              "#ed7953"
             ],
             [
              0.7777777777777778,
              "#fb9f3a"
             ],
             [
              0.8888888888888888,
              "#fdca26"
             ],
             [
              1,
              "#f0f921"
             ]
            ],
            "type": "contour"
           }
          ],
          "contourcarpet": [
           {
            "colorbar": {
             "outlinewidth": 0,
             "ticks": ""
            },
            "type": "contourcarpet"
           }
          ],
          "heatmap": [
           {
            "colorbar": {
             "outlinewidth": 0,
             "ticks": ""
            },
            "colorscale": [
             [
              0,
              "#0d0887"
             ],
             [
              0.1111111111111111,
              "#46039f"
             ],
             [
              0.2222222222222222,
              "#7201a8"
             ],
             [
              0.3333333333333333,
              "#9c179e"
             ],
             [
              0.4444444444444444,
              "#bd3786"
             ],
             [
              0.5555555555555556,
              "#d8576b"
             ],
             [
              0.6666666666666666,
              "#ed7953"
             ],
             [
              0.7777777777777778,
              "#fb9f3a"
             ],
             [
              0.8888888888888888,
              "#fdca26"
             ],
             [
              1,
              "#f0f921"
             ]
            ],
            "type": "heatmap"
           }
          ],
          "heatmapgl": [
           {
            "colorbar": {
             "outlinewidth": 0,
             "ticks": ""
            },
            "colorscale": [
             [
              0,
              "#0d0887"
             ],
             [
              0.1111111111111111,
              "#46039f"
             ],
             [
              0.2222222222222222,
              "#7201a8"
             ],
             [
              0.3333333333333333,
              "#9c179e"
             ],
             [
              0.4444444444444444,
              "#bd3786"
             ],
             [
              0.5555555555555556,
              "#d8576b"
             ],
             [
              0.6666666666666666,
              "#ed7953"
             ],
             [
              0.7777777777777778,
              "#fb9f3a"
             ],
             [
              0.8888888888888888,
              "#fdca26"
             ],
             [
              1,
              "#f0f921"
             ]
            ],
            "type": "heatmapgl"
           }
          ],
          "histogram": [
           {
            "marker": {
             "pattern": {
              "fillmode": "overlay",
              "size": 10,
              "solidity": 0.2
             }
            },
            "type": "histogram"
           }
          ],
          "histogram2d": [
           {
            "colorbar": {
             "outlinewidth": 0,
             "ticks": ""
            },
            "colorscale": [
             [
              0,
              "#0d0887"
             ],
             [
              0.1111111111111111,
              "#46039f"
             ],
             [
              0.2222222222222222,
              "#7201a8"
             ],
             [
              0.3333333333333333,
              "#9c179e"
             ],
             [
              0.4444444444444444,
              "#bd3786"
             ],
             [
              0.5555555555555556,
              "#d8576b"
             ],
             [
              0.6666666666666666,
              "#ed7953"
             ],
             [
              0.7777777777777778,
              "#fb9f3a"
             ],
             [
              0.8888888888888888,
              "#fdca26"
             ],
             [
              1,
              "#f0f921"
             ]
            ],
            "type": "histogram2d"
           }
          ],
          "histogram2dcontour": [
           {
            "colorbar": {
             "outlinewidth": 0,
             "ticks": ""
            },
            "colorscale": [
             [
              0,
              "#0d0887"
             ],
             [
              0.1111111111111111,
              "#46039f"
             ],
             [
              0.2222222222222222,
              "#7201a8"
             ],
             [
              0.3333333333333333,
              "#9c179e"
             ],
             [
              0.4444444444444444,
              "#bd3786"
             ],
             [
              0.5555555555555556,
              "#d8576b"
             ],
             [
              0.6666666666666666,
              "#ed7953"
             ],
             [
              0.7777777777777778,
              "#fb9f3a"
             ],
             [
              0.8888888888888888,
              "#fdca26"
             ],
             [
              1,
              "#f0f921"
             ]
            ],
            "type": "histogram2dcontour"
           }
          ],
          "mesh3d": [
           {
            "colorbar": {
             "outlinewidth": 0,
             "ticks": ""
            },
            "type": "mesh3d"
           }
          ],
          "parcoords": [
           {
            "line": {
             "colorbar": {
              "outlinewidth": 0,
              "ticks": ""
             }
            },
            "type": "parcoords"
           }
          ],
          "pie": [
           {
            "automargin": true,
            "type": "pie"
           }
          ],
          "scatter": [
           {
            "fillpattern": {
             "fillmode": "overlay",
             "size": 10,
             "solidity": 0.2
            },
            "type": "scatter"
           }
          ],
          "scatter3d": [
           {
            "line": {
             "colorbar": {
              "outlinewidth": 0,
              "ticks": ""
             }
            },
            "marker": {
             "colorbar": {
              "outlinewidth": 0,
              "ticks": ""
             }
            },
            "type": "scatter3d"
           }
          ],
          "scattercarpet": [
           {
            "marker": {
             "colorbar": {
              "outlinewidth": 0,
              "ticks": ""
             }
            },
            "type": "scattercarpet"
           }
          ],
          "scattergeo": [
           {
            "marker": {
             "colorbar": {
              "outlinewidth": 0,
              "ticks": ""
             }
            },
            "type": "scattergeo"
           }
          ],
          "scattergl": [
           {
            "marker": {
             "colorbar": {
              "outlinewidth": 0,
              "ticks": ""
             }
            },
            "type": "scattergl"
           }
          ],
          "scattermapbox": [
           {
            "marker": {
             "colorbar": {
              "outlinewidth": 0,
              "ticks": ""
             }
            },
            "type": "scattermapbox"
           }
          ],
          "scatterpolar": [
           {
            "marker": {
             "colorbar": {
              "outlinewidth": 0,
              "ticks": ""
             }
            },
            "type": "scatterpolar"
           }
          ],
          "scatterpolargl": [
           {
            "marker": {
             "colorbar": {
              "outlinewidth": 0,
              "ticks": ""
             }
            },
            "type": "scatterpolargl"
           }
          ],
          "scatterternary": [
           {
            "marker": {
             "colorbar": {
              "outlinewidth": 0,
              "ticks": ""
             }
            },
            "type": "scatterternary"
           }
          ],
          "surface": [
           {
            "colorbar": {
             "outlinewidth": 0,
             "ticks": ""
            },
            "colorscale": [
             [
              0,
              "#0d0887"
             ],
             [
              0.1111111111111111,
              "#46039f"
             ],
             [
              0.2222222222222222,
              "#7201a8"
             ],
             [
              0.3333333333333333,
              "#9c179e"
             ],
             [
              0.4444444444444444,
              "#bd3786"
             ],
             [
              0.5555555555555556,
              "#d8576b"
             ],
             [
              0.6666666666666666,
              "#ed7953"
             ],
             [
              0.7777777777777778,
              "#fb9f3a"
             ],
             [
              0.8888888888888888,
              "#fdca26"
             ],
             [
              1,
              "#f0f921"
             ]
            ],
            "type": "surface"
           }
          ],
          "table": [
           {
            "cells": {
             "fill": {
              "color": "#EBF0F8"
             },
             "line": {
              "color": "white"
             }
            },
            "header": {
             "fill": {
              "color": "#C8D4E3"
             },
             "line": {
              "color": "white"
             }
            },
            "type": "table"
           }
          ]
         },
         "layout": {
          "annotationdefaults": {
           "arrowcolor": "#2a3f5f",
           "arrowhead": 0,
           "arrowwidth": 1
          },
          "autotypenumbers": "strict",
          "coloraxis": {
           "colorbar": {
            "outlinewidth": 0,
            "ticks": ""
           }
          },
          "colorscale": {
           "diverging": [
            [
             0,
             "#8e0152"
            ],
            [
             0.1,
             "#c51b7d"
            ],
            [
             0.2,
             "#de77ae"
            ],
            [
             0.3,
             "#f1b6da"
            ],
            [
             0.4,
             "#fde0ef"
            ],
            [
             0.5,
             "#f7f7f7"
            ],
            [
             0.6,
             "#e6f5d0"
            ],
            [
             0.7,
             "#b8e186"
            ],
            [
             0.8,
             "#7fbc41"
            ],
            [
             0.9,
             "#4d9221"
            ],
            [
             1,
             "#276419"
            ]
           ],
           "sequential": [
            [
             0,
             "#0d0887"
            ],
            [
             0.1111111111111111,
             "#46039f"
            ],
            [
             0.2222222222222222,
             "#7201a8"
            ],
            [
             0.3333333333333333,
             "#9c179e"
            ],
            [
             0.4444444444444444,
             "#bd3786"
            ],
            [
             0.5555555555555556,
             "#d8576b"
            ],
            [
             0.6666666666666666,
             "#ed7953"
            ],
            [
             0.7777777777777778,
             "#fb9f3a"
            ],
            [
             0.8888888888888888,
             "#fdca26"
            ],
            [
             1,
             "#f0f921"
            ]
           ],
           "sequentialminus": [
            [
             0,
             "#0d0887"
            ],
            [
             0.1111111111111111,
             "#46039f"
            ],
            [
             0.2222222222222222,
             "#7201a8"
            ],
            [
             0.3333333333333333,
             "#9c179e"
            ],
            [
             0.4444444444444444,
             "#bd3786"
            ],
            [
             0.5555555555555556,
             "#d8576b"
            ],
            [
             0.6666666666666666,
             "#ed7953"
            ],
            [
             0.7777777777777778,
             "#fb9f3a"
            ],
            [
             0.8888888888888888,
             "#fdca26"
            ],
            [
             1,
             "#f0f921"
            ]
           ]
          },
          "colorway": [
           "#636efa",
           "#EF553B",
           "#00cc96",
           "#ab63fa",
           "#FFA15A",
           "#19d3f3",
           "#FF6692",
           "#B6E880",
           "#FF97FF",
           "#FECB52"
          ],
          "font": {
           "color": "#2a3f5f"
          },
          "geo": {
           "bgcolor": "white",
           "lakecolor": "white",
           "landcolor": "#E5ECF6",
           "showlakes": true,
           "showland": true,
           "subunitcolor": "white"
          },
          "hoverlabel": {
           "align": "left"
          },
          "hovermode": "closest",
          "mapbox": {
           "style": "light"
          },
          "paper_bgcolor": "white",
          "plot_bgcolor": "#E5ECF6",
          "polar": {
           "angularaxis": {
            "gridcolor": "white",
            "linecolor": "white",
            "ticks": ""
           },
           "bgcolor": "#E5ECF6",
           "radialaxis": {
            "gridcolor": "white",
            "linecolor": "white",
            "ticks": ""
           }
          },
          "scene": {
           "xaxis": {
            "backgroundcolor": "#E5ECF6",
            "gridcolor": "white",
            "gridwidth": 2,
            "linecolor": "white",
            "showbackground": true,
            "ticks": "",
            "zerolinecolor": "white"
           },
           "yaxis": {
            "backgroundcolor": "#E5ECF6",
            "gridcolor": "white",
            "gridwidth": 2,
            "linecolor": "white",
            "showbackground": true,
            "ticks": "",
            "zerolinecolor": "white"
           },
           "zaxis": {
            "backgroundcolor": "#E5ECF6",
            "gridcolor": "white",
            "gridwidth": 2,
            "linecolor": "white",
            "showbackground": true,
            "ticks": "",
            "zerolinecolor": "white"
           }
          },
          "shapedefaults": {
           "line": {
            "color": "#2a3f5f"
           }
          },
          "ternary": {
           "aaxis": {
            "gridcolor": "white",
            "linecolor": "white",
            "ticks": ""
           },
           "baxis": {
            "gridcolor": "white",
            "linecolor": "white",
            "ticks": ""
           },
           "bgcolor": "#E5ECF6",
           "caxis": {
            "gridcolor": "white",
            "linecolor": "white",
            "ticks": ""
           }
          },
          "title": {
           "x": 0.05
          },
          "xaxis": {
           "automargin": true,
           "gridcolor": "white",
           "linecolor": "white",
           "ticks": "",
           "title": {
            "standoff": 15
           },
           "zerolinecolor": "white",
           "zerolinewidth": 2
          },
          "yaxis": {
           "automargin": true,
           "gridcolor": "white",
           "linecolor": "white",
           "ticks": "",
           "title": {
            "standoff": 15
           },
           "zerolinecolor": "white",
           "zerolinewidth": 2
          }
         }
        },
        "title": {
         "text": "Artist whose song has high popularity greater than 70"
        }
       }
      }
     },
     "metadata": {},
     "output_type": "display_data"
    }
   ],
   "source": [
    "##========================================================\n",
    "## Artist whose song has high popularity greater than 70\n",
    "##========================================================\n",
    "\n",
    "pop_70 =  playlist.loc[lambda playlist: playlist[\"Popularity\"] > 70].sort_values(by=[\"Popularity\"], ascending=False)\n",
    "\n",
    "fig = px.pie(pop_70, values = \"Popularity\", names = \"Artist\", \n",
    "             title = 'Artist whose song has high popularity greater than 70')\n",
    "fig.update_traces(textposition = \"inside\", textinfo = \"percent + label\") \n",
    "fig.show()"
   ]
  }
 ],
 "metadata": {
  "kernelspec": {
   "display_name": "Python 3",
   "language": "python",
   "name": "python3"
  },
  "language_info": {
   "codemirror_mode": {
    "name": "ipython",
    "version": 3
   },
   "file_extension": ".py",
   "mimetype": "text/x-python",
   "name": "python",
   "nbconvert_exporter": "python",
   "pygments_lexer": "ipython3",
   "version": "3.11.4"
  },
  "orig_nbformat": 4
 },
 "nbformat": 4,
 "nbformat_minor": 2
}

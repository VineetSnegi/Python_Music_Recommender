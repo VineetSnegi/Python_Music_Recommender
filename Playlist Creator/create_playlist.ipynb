{
 "cells": [
  {
   "cell_type": "markdown",
   "metadata": {},
   "source": [
    "## Create Playlist\n",
    "By:- Vineet Singh Negi\n",
    "\n",
    "This notebook uses Spotipy to create playlists for the song data collected previously programmatically."
   ]
  },
  {
   "cell_type": "code",
   "execution_count": 1,
   "metadata": {},
   "outputs": [],
   "source": [
    "import pandas as pd\n",
    "import numpy as np\n",
    "import math\n",
    "\n",
    "import spotipy\n",
    "from spotipy.oauth2 import SpotifyOAuth\n",
    "from spotipy.oauth2 import SpotifyClientCredentials\n",
    "\n",
    "from tqdm import tqdm"
   ]
  },
  {
   "cell_type": "markdown",
   "metadata": {},
   "source": [
    "Note: Ensure you have already set your environment variables and your Spotify app before executing the code in this notebook. \n",
    "\n",
    "The environment variables that should be set:\n",
    "\n",
    "-> SPOTIPY_CLIENT_ID - Get this from your Spotify app in the Developer Console\n",
    "\n",
    "-> SPOTIPY_CLIENT_SECRET - Get this from your Spotify app in the Developer Console\n",
    "\n",
    "-> SPOTIPY_REDIRECT_URI - Set to http://localhost:8080"
   ]
  },
  {
   "cell_type": "code",
   "execution_count": 2,
   "metadata": {},
   "outputs": [],
   "source": [
    "##==============================================\n",
    "## Function to get Client Id and Client Secret\n",
    "##==============================================\n",
    "\n",
    "client_id = ''  # <-- Enter your client it \n",
    "client_secret = '' # <-- Enter your client secret\n",
    "\n",
    "auth_manager = SpotifyOAuth(client_id = client_id, redirect_uri='http://localhost:8080',\n",
    "                            client_secret = client_secret, scope=\"playlist-modify-public\", \n",
    "                            open_browser=False)  "
   ]
  },
  {
   "cell_type": "code",
   "execution_count": 3,
   "metadata": {},
   "outputs": [
    {
     "data": {
      "text/plain": [
       "'https://accounts.spotify.com/authorize?client_id=9024429ddca6460c8b6fc35343a37b00&response_type=code&redirect_uri=http%3A%2F%2Flocalhost%3A8080&scope=playlist-modify-public'"
      ]
     },
     "execution_count": 3,
     "metadata": {},
     "output_type": "execute_result"
    }
   ],
   "source": [
    "##===================\n",
    "## Set OAuth Token\n",
    "##===================\n",
    "\n",
    "auth_manager.get_authorize_url()"
   ]
  },
  {
   "cell_type": "code",
   "execution_count": null,
   "metadata": {},
   "outputs": [],
   "source": [
    "auth_manager.get_access_token('', as_dict=False) # <-- Enter token"
   ]
  },
  {
   "cell_type": "code",
   "execution_count": 5,
   "metadata": {},
   "outputs": [
    {
     "data": {
      "text/plain": [
       "{'display_name': 'Vineet Singh Negi',\n",
       " 'external_urls': {'spotify': 'https://open.spotify.com/user/31oqjlsf3jf3h2eea5h6pf2quu7m'},\n",
       " 'href': 'https://api.spotify.com/v1/users/31oqjlsf3jf3h2eea5h6pf2quu7m',\n",
       " 'id': '31oqjlsf3jf3h2eea5h6pf2quu7m',\n",
       " 'images': [],\n",
       " 'type': 'user',\n",
       " 'uri': 'spotify:user:31oqjlsf3jf3h2eea5h6pf2quu7m',\n",
       " 'followers': {'href': None, 'total': 0}}"
      ]
     },
     "execution_count": 5,
     "metadata": {},
     "output_type": "execute_result"
    }
   ],
   "source": [
    "##=================================\n",
    "## Authorize and get current user\n",
    "##=================================\n",
    "\n",
    "spotify = spotipy.Spotify(auth_manager=auth_manager)\n",
    "\n",
    "user_dict = spotify.current_user()\n",
    "user_dict"
   ]
  },
  {
   "cell_type": "code",
   "execution_count": 6,
   "metadata": {},
   "outputs": [
    {
     "data": {
      "text/plain": [
       "array([1958, 1959, 1960, 1961, 1962, 1963, 1964, 1965, 1966, 1967, 1968,\n",
       "       1969, 1970, 1971, 1972, 1973, 1974, 1975, 1976, 1977, 1978, 1979,\n",
       "       1980, 1981, 1982, 1983, 1984, 1985, 1986, 1987, 1988, 1989, 1990,\n",
       "       1991, 1992, 1993, 1994, 1995, 1996, 1997, 1998, 1999, 2000, 2001,\n",
       "       2002, 2003, 2004, 2005, 2006, 2007, 2008, 2009, 2010, 2011, 2012,\n",
       "       2013, 2014, 2015, 2016, 2017, 2018, 2019, 2020, 2021, 2022],\n",
       "      dtype=int64)"
      ]
     },
     "execution_count": 6,
     "metadata": {},
     "output_type": "execute_result"
    }
   ],
   "source": [
    "df = pd.read_csv(\"songs.csv\")\n",
    "years = df['year'].unique()\n",
    "years"
   ]
  },
  {
   "cell_type": "code",
   "execution_count": 7,
   "metadata": {},
   "outputs": [],
   "source": [
    "StartYear = 1990\n",
    "EndYear = 2010\n",
    "\n",
    "#Some form validation to make sure the years make sense for the playlist.\n",
    "if StartYear > EndYear:\n",
    "    StartYear = EndYear"
   ]
  },
  {
   "cell_type": "code",
   "execution_count": 8,
   "metadata": {},
   "outputs": [],
   "source": [
    "##=============================\n",
    "## Creating Spotify Playlist\n",
    "##=============================\n",
    "\n",
    "pd.DataFrame(columns=['id','name','link']).to_csv(\"playlists.csv\", index=False)\n",
    "\n",
    "def check_playlists(playlist_name, playlists_df):\n",
    "    \"\"\"Checks if playlist has already been created.\"\"\"\n",
    "    result = playlists_df[playlists_df['name'] == playlist_name].shape[0]\n",
    "    if result > 0:\n",
    "        return False\n",
    "    else:\n",
    "        return True\n",
    "    \n",
    "def save_playlists(playlist, playlist_name, playlists_df):\n",
    "    \"\"\"Saves playlist in a csv file.\"\"\"\n",
    "    new_playlist = {\n",
    "        'name':playlist_name,\n",
    "        'id':playlist['id'],\n",
    "        'link':playlist['external_urls']['spotify']\n",
    "    }\n",
    "\n",
    "    playlists_df = pd.concat([playlists_df, pd.DataFrame([new_playlist])])\n",
    "    playlists_df.to_csv(\"playlists.csv\", index=False)\n",
    "\n",
    "def make_playlist(start_year, end_year):\n",
    "    \"\"\"Makes the playlist and adds tracks from songs.csv given the start and end year\"\"\"\n",
    "    playlists_df = pd.read_csv(\"playlists.csv\")\n",
    "    if (start_year - end_year) == 0:\n",
    "        playlist_name = f\"Top US Singles: {start_year}\"\n",
    "    else:\n",
    "        playlist_name = f\"Top US Singles: {start_year}-{end_year}\"\n",
    "\n",
    "    if check_playlists(playlist_name, playlists_df):\n",
    "        description = 'This playlist was generated automatically for a project on Datafantic.com.'\n",
    "        playlist = spotify.user_playlist_create(user=user_dict['id'], \n",
    "                                                name=playlist_name,\n",
    "                                                description=description)\n",
    "        uris = list(df[(df['year'] >= start_year) & (df['year'] <= end_year)]['spotify_uri'].values)\n",
    "\n",
    "        chunked_uris = np.array_split(uris, math.ceil(len(uris) / 100))\n",
    "        for uri_list in chunked_uris:\n",
    "            spotify.user_playlist_add_tracks(user=user_dict['id'], \n",
    "                                            playlist_id=playlist['id'], \n",
    "                                            tracks=uri_list)\n",
    "\n",
    "        save_playlists(playlist, playlist_name, playlists_df)"
   ]
  },
  {
   "cell_type": "code",
   "execution_count": 9,
   "metadata": {},
   "outputs": [
    {
     "data": {
      "text/plain": [
       "1090"
      ]
     },
     "execution_count": 9,
     "metadata": {},
     "output_type": "execute_result"
    }
   ],
   "source": [
    "##=============================\n",
    "## Generating List of Tuples\n",
    "##=============================\n",
    "\n",
    "years = list(range(1958, 2023))\n",
    "\n",
    "year_pairs = []\n",
    "for width in range(0,21):\n",
    "    for year in years[:-width]:\n",
    "        year_pairs.append((year, year + width))\n",
    "\n",
    "len(year_pairs)"
   ]
  },
  {
   "cell_type": "code",
   "execution_count": 11,
   "metadata": {},
   "outputs": [],
   "source": [
    "# Making playlists for single years.\n",
    "\n",
    "for year in years:\n",
    "    make_playlist(year, year)"
   ]
  },
  {
   "cell_type": "code",
   "execution_count": null,
   "metadata": {},
   "outputs": [],
   "source": [
    "for pair in tqdm(year_pairs):\n",
    "    make_playlist(pair[0], pair[1]) #This will take aound 40min or so to process."
   ]
  },
  {
   "cell_type": "code",
   "execution_count": 17,
   "metadata": {},
   "outputs": [],
   "source": [
    "df = pd.read_csv(\"playlists.csv\")"
   ]
  },
  {
   "cell_type": "code",
   "execution_count": 18,
   "metadata": {},
   "outputs": [
    {
     "data": {
      "text/plain": [
       "(1155, 3)"
      ]
     },
     "execution_count": 18,
     "metadata": {},
     "output_type": "execute_result"
    }
   ],
   "source": [
    "df.shape"
   ]
  }
 ],
 "metadata": {
  "kernelspec": {
   "display_name": "Python 3",
   "language": "python",
   "name": "python3"
  },
  "language_info": {
   "codemirror_mode": {
    "name": "ipython",
    "version": 3
   },
   "file_extension": ".py",
   "mimetype": "text/x-python",
   "name": "python",
   "nbconvert_exporter": "python",
   "pygments_lexer": "ipython3",
   "version": "3.11.4"
  },
  "orig_nbformat": 4
 },
 "nbformat": 4,
 "nbformat_minor": 2
}
